{
 "cells": [
  {
   "cell_type": "code",
   "execution_count": 1,
   "metadata": {},
   "outputs": [
    {
     "name": "stdout",
     "output_type": "stream",
     "text": [
      "enter a number:23\n",
      "enter a number:42\n",
      "enter a number:546\n",
      "enter a number:21\n",
      "enter a number:54\n",
      "enter a number:675\n",
      "enter a number:243\n",
      "enter a number:done\n",
      "maximum no is: 675\n",
      "minimum no is: 21\n"
     ]
    }
   ],
   "source": [
    "y=[]\n",
    "while True:\n",
    "    z=0\n",
    "    x= input(\"enter a number:\")\n",
    "    if x==\"done\":\n",
    "        break\n",
    "    try:\n",
    "        z=int(x)\n",
    "    except:\n",
    "        print(\"invalid input\")\n",
    "        quit()\n",
    "    y.append(x)\n",
    "print(\"maximum no is:\", max(y))\n",
    "print(\"minimum no is:\", min(y))"
   ]
  },
  {
   "cell_type": "code",
   "execution_count": null,
   "metadata": {},
   "outputs": [],
   "source": []
  }
 ],
 "metadata": {
  "kernelspec": {
   "display_name": "Python 3",
   "language": "python",
   "name": "python3"
  },
  "language_info": {
   "codemirror_mode": {
    "name": "ipython",
    "version": 3
   },
   "file_extension": ".py",
   "mimetype": "text/x-python",
   "name": "python",
   "nbconvert_exporter": "python",
   "pygments_lexer": "ipython3",
   "version": "3.7.3"
  }
 },
 "nbformat": 4,
 "nbformat_minor": 2
}
